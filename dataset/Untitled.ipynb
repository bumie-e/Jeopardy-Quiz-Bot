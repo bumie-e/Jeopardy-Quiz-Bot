{
 "cells": [
  {
   "cell_type": "code",
   "execution_count": 1,
   "metadata": {},
   "outputs": [],
   "source": [
    "import numpy as np\n",
    "import pandas as pd\n",
    "import matplotlib.pyplot as plt\n",
    "import warnings\n",
    "warnings.filterwarnings('ignore')"
   ]
  },
  {
   "cell_type": "code",
   "execution_count": 2,
   "metadata": {},
   "outputs": [],
   "source": [
    "df = pd.read_csv('JEP.csv')"
   ]
  },
  {
   "cell_type": "code",
   "execution_count": 3,
   "metadata": {},
   "outputs": [
    {
     "data": {
      "text/plain": [
       "(43387, 8)"
      ]
     },
     "execution_count": 3,
     "metadata": {},
     "output_type": "execute_result"
    }
   ],
   "source": [
    "df.shape"
   ]
  },
  {
   "cell_type": "code",
   "execution_count": 3,
   "metadata": {},
   "outputs": [
    {
     "data": {
      "text/plain": [
       "43386.0"
      ]
     },
     "execution_count": 3,
     "metadata": {},
     "output_type": "execute_result"
    }
   ],
   "source": [
    "20/100 * len(df)"
   ]
  },
  {
   "cell_type": "code",
   "execution_count": 6,
   "metadata": {},
   "outputs": [],
   "source": [
    "mp = df[:43387]"
   ]
  },
  {
   "cell_type": "code",
   "execution_count": 7,
   "metadata": {},
   "outputs": [],
   "source": [
    "mp.to_csv('JEP.csv')"
   ]
  },
  {
   "cell_type": "code",
   "execution_count": 4,
   "metadata": {},
   "outputs": [
    {
     "data": {
      "text/plain": [
       "6.640000000000001"
      ]
     },
     "execution_count": 4,
     "metadata": {},
     "output_type": "execute_result"
    }
   ],
   "source": [
    "20/100 * 33.2"
   ]
  },
  {
   "cell_type": "code",
   "execution_count": 3,
   "metadata": {},
   "outputs": [
    {
     "data": {
      "text/html": [
       "<div>\n",
       "<style scoped>\n",
       "    .dataframe tbody tr th:only-of-type {\n",
       "        vertical-align: middle;\n",
       "    }\n",
       "\n",
       "    .dataframe tbody tr th {\n",
       "        vertical-align: top;\n",
       "    }\n",
       "\n",
       "    .dataframe thead th {\n",
       "        text-align: right;\n",
       "    }\n",
       "</style>\n",
       "<table border=\"1\" class=\"dataframe\">\n",
       "  <thead>\n",
       "    <tr style=\"text-align: right;\">\n",
       "      <th></th>\n",
       "      <th>Show Number</th>\n",
       "      <th>Air Date</th>\n",
       "      <th>Round</th>\n",
       "      <th>Category</th>\n",
       "      <th>Value</th>\n",
       "      <th>Question</th>\n",
       "      <th>Answer</th>\n",
       "    </tr>\n",
       "  </thead>\n",
       "  <tbody>\n",
       "    <tr>\n",
       "      <th>0</th>\n",
       "      <td>4680</td>\n",
       "      <td>2004-12-31</td>\n",
       "      <td>Jeopardy!</td>\n",
       "      <td>HISTORY</td>\n",
       "      <td>$200</td>\n",
       "      <td>For the last 8 years of his life, Galileo was ...</td>\n",
       "      <td>Copernicus</td>\n",
       "    </tr>\n",
       "    <tr>\n",
       "      <th>1</th>\n",
       "      <td>4680</td>\n",
       "      <td>2004-12-31</td>\n",
       "      <td>Jeopardy!</td>\n",
       "      <td>ESPN's TOP 10 ALL-TIME ATHLETES</td>\n",
       "      <td>$200</td>\n",
       "      <td>No. 2: 1912 Olympian; football star at Carlisl...</td>\n",
       "      <td>Jim Thorpe</td>\n",
       "    </tr>\n",
       "    <tr>\n",
       "      <th>2</th>\n",
       "      <td>4680</td>\n",
       "      <td>2004-12-31</td>\n",
       "      <td>Jeopardy!</td>\n",
       "      <td>EVERYBODY TALKS ABOUT IT...</td>\n",
       "      <td>$200</td>\n",
       "      <td>The city of Yuma in this state has a record av...</td>\n",
       "      <td>Arizona</td>\n",
       "    </tr>\n",
       "    <tr>\n",
       "      <th>3</th>\n",
       "      <td>4680</td>\n",
       "      <td>2004-12-31</td>\n",
       "      <td>Jeopardy!</td>\n",
       "      <td>THE COMPANY LINE</td>\n",
       "      <td>$200</td>\n",
       "      <td>In 1963, live on \"The Art Linkletter Show\", th...</td>\n",
       "      <td>McDonald's</td>\n",
       "    </tr>\n",
       "    <tr>\n",
       "      <th>4</th>\n",
       "      <td>4680</td>\n",
       "      <td>2004-12-31</td>\n",
       "      <td>Jeopardy!</td>\n",
       "      <td>EPITAPHS &amp; TRIBUTES</td>\n",
       "      <td>$200</td>\n",
       "      <td>Signer of the Dec. of Indep., framer of the Co...</td>\n",
       "      <td>John Adams</td>\n",
       "    </tr>\n",
       "  </tbody>\n",
       "</table>\n",
       "</div>"
      ],
      "text/plain": [
       "   Show Number    Air Date      Round                         Category  Value  \\\n",
       "0         4680  2004-12-31  Jeopardy!                          HISTORY   $200   \n",
       "1         4680  2004-12-31  Jeopardy!  ESPN's TOP 10 ALL-TIME ATHLETES   $200   \n",
       "2         4680  2004-12-31  Jeopardy!      EVERYBODY TALKS ABOUT IT...   $200   \n",
       "3         4680  2004-12-31  Jeopardy!                 THE COMPANY LINE   $200   \n",
       "4         4680  2004-12-31  Jeopardy!              EPITAPHS & TRIBUTES   $200   \n",
       "\n",
       "                                            Question      Answer  \n",
       "0  For the last 8 years of his life, Galileo was ...  Copernicus  \n",
       "1  No. 2: 1912 Olympian; football star at Carlisl...  Jim Thorpe  \n",
       "2  The city of Yuma in this state has a record av...     Arizona  \n",
       "3  In 1963, live on \"The Art Linkletter Show\", th...  McDonald's  \n",
       "4  Signer of the Dec. of Indep., framer of the Co...  John Adams  "
      ]
     },
     "execution_count": 3,
     "metadata": {},
     "output_type": "execute_result"
    }
   ],
   "source": [
    "df.head()"
   ]
  },
  {
   "cell_type": "code",
   "execution_count": 11,
   "metadata": {},
   "outputs": [
    {
     "name": "stdout",
     "output_type": "stream",
     "text": [
      "<class 'pandas.core.frame.DataFrame'>\n",
      "RangeIndex: 216930 entries, 0 to 216929\n",
      "Data columns (total 7 columns):\n",
      " #   Column       Non-Null Count   Dtype \n",
      "---  ------       --------------   ----- \n",
      " 0   Show Number  216930 non-null  int64 \n",
      " 1    Air Date    216930 non-null  object\n",
      " 2    Round       216930 non-null  object\n",
      " 3    Category    216930 non-null  object\n",
      " 4    Value       216930 non-null  object\n",
      " 5    Question    216930 non-null  object\n",
      " 6    Answer      216928 non-null  object\n",
      "dtypes: int64(1), object(6)\n",
      "memory usage: 11.6+ MB\n"
     ]
    }
   ],
   "source": [
    "df.info()"
   ]
  },
  {
   "cell_type": "code",
   "execution_count": 12,
   "metadata": {},
   "outputs": [
    {
     "data": {
      "text/plain": [
       "(array(['HISTORY', \"ESPN's TOP 10 ALL-TIME ATHLETES\",\n",
       "        'EVERYBODY TALKS ABOUT IT...', ..., 'OFF-BROADWAY',\n",
       "        'RIDDLE ME THIS', 'AUTHORS IN THEIR YOUTH'], dtype=object),\n",
       " 27995)"
      ]
     },
     "execution_count": 12,
     "metadata": {},
     "output_type": "execute_result"
    }
   ],
   "source": [
    "df[' Category'].unique(), len(df[' Category'].unique())"
   ]
  },
  {
   "cell_type": "code",
   "execution_count": 19,
   "metadata": {},
   "outputs": [
    {
     "data": {
      "text/plain": [
       "0    For the last 8 years of his life, Galileo was ...\n",
       "1    No. 2: 1912 Olympian; football star at Carlisl...\n",
       "2    The city of Yuma in this state has a record av...\n",
       "3    In 1963, live on \"The Art Linkletter Show\", th...\n",
       "4    Signer of the Dec. of Indep., framer of the Co...\n",
       "Name:  Question, dtype: object"
      ]
     },
     "execution_count": 19,
     "metadata": {},
     "output_type": "execute_result"
    }
   ],
   "source": [
    "df[' Question'][:5]"
   ]
  },
  {
   "cell_type": "code",
   "execution_count": 4,
   "metadata": {},
   "outputs": [
    {
     "name": "stdout",
     "output_type": "stream",
     "text": [
      "200708\n"
     ]
    }
   ],
   "source": [
    "import random\n",
    "\n",
    "sunn = random.randint(0, 216928)\n",
    "print(sunn)"
   ]
  },
  {
   "cell_type": "code",
   "execution_count": 26,
   "metadata": {},
   "outputs": [
    {
     "data": {
      "text/plain": [
       "('In the 14th century, negotiations at Bruges led to a 2-year truce in this long war',\n",
       " \"Hundred Years' War\",\n",
       " 'TO TELL THE TRUCE')"
      ]
     },
     "execution_count": 26,
     "metadata": {},
     "output_type": "execute_result"
    }
   ],
   "source": [
    "df[' Question'][sunn], df[' Answer'][sunn], df[' Category'][sunn]"
   ]
  },
  {
   "cell_type": "code",
   "execution_count": 30,
   "metadata": {},
   "outputs": [
    {
     "data": {
      "text/plain": [
       "200"
      ]
     },
     "execution_count": 30,
     "metadata": {},
     "output_type": "execute_result"
    }
   ],
   "source": [
    "int(df[' Value'][1][1:])"
   ]
  },
  {
   "cell_type": "code",
   "execution_count": 34,
   "metadata": {},
   "outputs": [
    {
     "name": "stdout",
     "output_type": "stream",
     "text": [
      "Next question. Hint: TO TELL THE TRUCE\n",
      "In the 14th century, negotiations at Bruges led to a 2-year truce in this long war  ?\n",
      "Your answer Hundred Years' War\n",
      "Correct, you got $800 with a total of $800\n"
     ]
    }
   ],
   "source": [
    "print('Next question. Hint: {}'.format(df[' Category'][sunn]))\n",
    "print(df[' Question'][sunn], ' ?')\n",
    "let = input('Your answer ')\n",
    "amount = 0\n",
    "if let == df[' Answer'][sunn]:\n",
    "    amount += int(df[' Value'][sunn][1:])\n",
    "    print('Correct, you got {} with a total of ${}'.format(df[' Value'][sunn], amount))"
   ]
  },
  {
   "cell_type": "code",
   "execution_count": null,
   "metadata": {},
   "outputs": [],
   "source": [
    "import time, threading\n",
    "\n",
    "WAIT_SECONDS = 1\n",
    "\n",
    "def foo():\n",
    "    print(time.ctime())\n",
    "    threading.Timer(WAIT_SECONDS, foo).start()\n",
    "    \n",
    "foo()\n",
    "\n",
    "\n",
    "\n",
    "\n",
    "import time\n",
    "\n",
    "def foo():\n",
    "  print time.ctime()\n",
    "\n",
    "while True:\n",
    "  foo()\n",
    "  time.sleep(1)\n",
    "    \n",
    "    \n",
    "import threading, time\n",
    "\n",
    "def foo():\n",
    "    print time.ctime()\n",
    "    \n",
    "WAIT_TIME_SECONDS = 2\n",
    "\n",
    "ticker = threading.Event()\n",
    "while not ticker.wait(WAIT_TIME_SECONDS):\n",
    "    foo()\n",
    "    \n",
    "    "
   ]
  },
  {
   "cell_type": "code",
   "execution_count": 14,
   "metadata": {},
   "outputs": [],
   "source": [
    "import time, threading"
   ]
  },
  {
   "cell_type": "code",
   "execution_count": 15,
   "metadata": {},
   "outputs": [
    {
     "ename": "SyntaxError",
     "evalue": "'break' outside loop (<ipython-input-15-3ed583e64b3d>, line 16)",
     "output_type": "error",
     "traceback": [
      "\u001b[1;36m  File \u001b[1;32m\"<ipython-input-15-3ed583e64b3d>\"\u001b[1;36m, line \u001b[1;32m16\u001b[0m\n\u001b[1;33m    print('Correct, you got {} with a total of ${}'.format(df[' Value'][sunn], amount))\u001b[0m\n\u001b[1;37m           ^\u001b[0m\n\u001b[1;31mSyntaxError\u001b[0m\u001b[1;31m:\u001b[0m 'break' outside loop\n"
     ]
    }
   ],
   "source": [
    "secs= 10\n",
    "\n",
    "def crtime():\n",
    "    print(time.ctime())\n",
    "    sunn = random.randint(0, 216928)\n",
    "    print(sunn)\n",
    "    print('Next question. Hint: {}'.format(df[' Category'][sunn]))\n",
    "    print(df[' Answer'][sunn])\n",
    "    print(df[' Question'][sunn], ' ?')\n",
    "    let = input('Your answer ')\n",
    "    amount = 0\n",
    "    if let == 'stop':\n",
    "        break\n",
    "    elif let == df[' Answer'][sunn]:\n",
    "        amount += int(df[' Value'][sunn][1:])\n",
    "        print('Correct, you got {} with a total of ${}'.format(df[' Value'][sunn], amount))\n",
    "    else:\n",
    "        print('wrong answer')\n",
    "    threading.Timer(secs, crtime).start()\n",
    "    \n",
    "crtime()"
   ]
  },
  {
   "cell_type": "code",
   "execution_count": 32,
   "metadata": {},
   "outputs": [],
   "source": [
    "\n",
    "def crtime():\n",
    "    task = 0\n",
    "    amount = 0\n",
    "    while task<secs:\n",
    "        print(time.ctime())\n",
    "        sunn = random.randint(0, 216928)#print(sunn)\n",
    "        print('Next question. Hint: {}'.format(df[' Category'][sunn]))\n",
    "        print('Answer', df[' Answer'][sunn])\n",
    "        print(df[' Question'][sunn], ' ?')\n",
    "        let = input('Your answer')\n",
    "        if let == df[' Answer'][sunn]:\n",
    "            amount += int(df[' Value'][sunn].replace(',', '')[1:])\n",
    "            print(df[' Round'][sunn], 'The Answer Is ', df[' Answer'][sunn])\n",
    "            print('Correct, you got {} with a total of ${}'.format(df[' Value'][sunn], amount))\n",
    "        elif let == 'stop':\n",
    "            break\n",
    "    #threading.Timer(secs, crtime).start()\n",
    "    #time.sleep(secs)"
   ]
  },
  {
   "cell_type": "code",
   "execution_count": 38,
   "metadata": {},
   "outputs": [
    {
     "name": "stdout",
     "output_type": "stream",
     "text": [
      "Thu Jun  3 15:11:58 2021\n",
      "Next question. Hint: COLOMBIA PICTURES\n",
      "Answer Simon Bolivar\n",
      "This simple Simon is on the money in Colombia; the 1,000-peso note  ?\n",
      "Your answerSimon Bolivar\n",
      "Jeopardy! The Answer Is  Simon Bolivar\n",
      "Correct, you got $1000 with a total of $1000\n",
      "10s job current time : Thu Jun  3 15:12:08 2021\n",
      "Thu Jun  3 15:12:18 2021\n",
      "Next question. Hint: MUSICIANS\n",
      "Answer Cat Stevens\n",
      "After a near-death experience, this singer converted to the Islamic faith and took a new name:  Yusuf Islam  ?\n",
      "Your answerCat Stevens\n",
      "Jeopardy! The Answer Is  Cat Stevens\n",
      "Correct, you got $200 with a total of $200\n",
      "10s job current time : Thu Jun  3 15:12:43 2021\n",
      "Thu Jun  3 15:12:53 2021\n",
      "Next question. Hint: 20 FOR DUMMIES\n",
      "Answer a top\n",
      "\"Parenting for Dummies\" uses this toy as an analogy for consistency: \"it spins until it wobbles, and then it falls down\"  ?\n",
      "Your answerstop\n"
     ]
    }
   ],
   "source": [
    "#while True:\n",
    "#    crtime()\n",
    "#    time.sleep(secs)\n"
   ]
  },
  {
   "cell_type": "code",
   "execution_count": 45,
   "metadata": {},
   "outputs": [],
   "source": [
    "import threading, time, signal\n",
    "\n",
    "from datetime import timedelta\n",
    "\n",
    "WAIT_TIME_SECONDS = 10\n",
    "\n",
    "class ProgramKilled(Exception):\n",
    "    pass\n",
    "\n",
    "def foo():\n",
    "    print(time.ctime())\n",
    "    \n",
    "def signal_handler(signum, frame):\n",
    "    raise ProgramKilled\n",
    "    \n",
    "class Job(threading.Thread):\n",
    "    def __init__(self, interval, execute, *args, **kwargs):\n",
    "        threading.Thread.__init__(self)\n",
    "        self.daemon = False\n",
    "        self.stopped = threading.Event()\n",
    "        self.interval = interval\n",
    "        self.execute = execute\n",
    "        self.args = args\n",
    "        self.kwargs = kwargs\n",
    "        \n",
    "    def stop(self):\n",
    "                self.stopped.set()\n",
    "                self.join()\n",
    "    def run(self):\n",
    "            while not self.stopped.wait(self.interval.total_seconds()):\n",
    "                self.execute(*self.args, **self.kwargs)\n",
    "            \n"
   ]
  },
  {
   "cell_type": "code",
   "execution_count": null,
   "metadata": {},
   "outputs": [
    {
     "name": "stdout",
     "output_type": "stream",
     "text": [
      "Tue Jun  1 12:46:47 2021\n",
      "83733\n",
      "Next question. Hint: A, B, C, D THEN F\n",
      "algebra\n",
      "This branch of mathematics uses letters to symbolize numbers in equations  ?\n",
      "Tue Jun  1 12:46:57 2021\n"
     ]
    }
   ],
   "source": [
    "if __name__ == \"__main__\":\n",
    "    signal.signal(signal.SIGTERM, signal_handler)\n",
    "    signal.signal(signal.SIGINT, signal_handler)\n",
    "    job = Job(interval=timedelta(seconds=WAIT_TIME_SECONDS), execute=foo)\n",
    "    job.start()\n",
    "    \n",
    "    while True:\n",
    "        ans = crtime()\n",
    "        if ans == 'stop':\n",
    "            job.stop()\n",
    "            break\n",
    "        \n",
    "def crtime():\n",
    "    print(time.ctime())\n",
    "    sunn = random.randint(0, 216928)\n",
    "    print(sunn)\n",
    "    print('Next question. Hint: {}'.format(df[' Category'][sunn]))\n",
    "    print(df[' Answer'][sunn])\n",
    "    print(df[' Question'][sunn], ' ?')\n",
    "    let = input('Your answer ')\n",
    "    amount = 0\n",
    "    if let == df[' Answer'][sunn]:\n",
    "        amount += int(df[' Value'][sunn][1:])\n",
    "        print('Correct, you got {} with a total of ${}'.format(df[' Value'][sunn], amount))\n",
    "    #threading.Timer(secs, crtime).start()\n",
    "    return let"
   ]
  },
  {
   "cell_type": "code",
   "execution_count": 39,
   "metadata": {},
   "outputs": [
    {
     "name": "stdout",
     "output_type": "stream",
     "text": [
      "Thu Jun  3 15:18:40 2021\n",
      "Next question. Hint: SCIENTIFIC AMERICANS\n",
      "Answer Gene\n",
      "In a lab in 1972 David Baltimore created one of these basic portions of a chromosome  ?\n",
      "Your answerGene\n",
      "Double Jeopardy! The Answer Is  Gene\n",
      "Correct, you got $200 with a total of $200\n",
      "10s job current time : Thu Jun  3 15:18:45 2021\n",
      "Thu Jun  3 15:18:55 2021\n",
      "Next question. Hint: NOVEL CHARACTERS\n",
      "Answer Penrod\n",
      "This Booth Tarkington title character's last name is Scofield  ?\n",
      "Your answerPenrod\n",
      "Double Jeopardy! The Answer Is  Penrod\n",
      "Correct, you got $800 with a total of $800\n",
      "10s job current time : Thu Jun  3 15:19:00 2021\n",
      "Thu Jun  3 15:19:10 2021\n",
      "Next question. Hint: YOU LOSE!\n",
      "Answer Waylon Jennings\n",
      "He \"lost\" his seat to the Big Bopper as Buddy Holly & the others flew off February 3, 1959  ?\n",
      "Your answerstop\n"
     ]
    }
   ],
   "source": [
    "import time\n",
    "\n",
    "def ask():\n",
    "    task = 0\n",
    "    print(time.ctime())\n",
    "    sunn = random.randint(0, 216928)\n",
    "    print('Next question. Hint: {}'.format(df[' Category'][sunn]))\n",
    "    print('Answer', df[' Answer'][sunn])\n",
    "    print(df[' Question'][sunn], ' ?')\n",
    "    let = input('Your answer')\n",
    "    return let, sunn\n",
    "\n",
    "def crtime(let, sunn):\n",
    "    \"\"\" This function is to check whether the answer given by the user is correct with the answer provided in the dataset,\n",
    "    print the correct answer at the end, increase the users money after every win \n",
    "    and display the amount won plus the total amount he has\"\"\"\n",
    "    amount = 0\n",
    "    if let == df[' Answer'][sunn]:\n",
    "        ignore = ['$', ',']\n",
    "        amount += int(''.join([i for i in df[' Value'][sunn] if i not in ignore]))\n",
    "       # amount += int(df[' Value'][sunn].replace(',', '')[1:])\n",
    "        print(df[' Round'][sunn], 'The Answer Is ', df[' Answer'][sunn])\n",
    "        print('Correct, you got {} with a total of ${}'.format(df[' Value'][sunn], amount))\n",
    "def sample_():\n",
    "    while True:\n",
    "        let, sunn = ask()\n",
    "        if let == 'stop':\n",
    "            break\n",
    "        else:\n",
    "            crtime(let, sunn)\n",
    "            print(\"10s job current time : {}\".format(time.ctime()))\n",
    "            time.sleep(secs)\n",
    "sample_()"
   ]
  },
  {
   "cell_type": "code",
   "execution_count": null,
   "metadata": {},
   "outputs": [],
   "source": []
  }
 ],
 "metadata": {
  "kernelspec": {
   "display_name": "Python 3",
   "language": "python",
   "name": "python3"
  },
  "language_info": {
   "codemirror_mode": {
    "name": "ipython",
    "version": 3
   },
   "file_extension": ".py",
   "mimetype": "text/x-python",
   "name": "python",
   "nbconvert_exporter": "python",
   "pygments_lexer": "ipython3",
   "version": "3.6.10"
  }
 },
 "nbformat": 4,
 "nbformat_minor": 4
}
